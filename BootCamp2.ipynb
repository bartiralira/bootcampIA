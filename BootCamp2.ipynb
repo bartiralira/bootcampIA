{
 "cells": [
  {
   "cell_type": "markdown",
   "source": [
    "***Participantes (RM - NOME):***<br>\r\n",
    "Vitor Luiz Carvalhal - 337129<br>\r\n",
    "Ricardo Fabbro Antonelli - 339505<br>\r\n",
    "Bartira Lira Lafiandre - 340177<br>\r\n",
    "Tiago Batista Pessoa - 339575<br>\r\n"
   ],
   "metadata": {}
  },
  {
   "cell_type": "markdown",
   "source": [
    "## **1.Bibliotecas e afins**"
   ],
   "metadata": {}
  },
  {
   "cell_type": "code",
   "execution_count": 5,
   "source": [
    "import pandas as pd\r\n",
    "import matplotlib.pyplot as plt\r\n",
    "import numpy as np\r\n",
    "import missingno as msno\r\n",
    "import seaborn as sbs\r\n",
    "import sklearn.metrics as sm\r\n",
    "import matplotlib.pyplot as plt\r\n",
    "from sklearn.cluster import KMeans\r\n",
    "import plotly.express as px\r\n",
    "from sklearn.preprocessing import StandardScaler, MinMaxScaler\r\n",
    "from sklearn.metrics import silhouette_score\r\n",
    "#from tqdm import tqdm\r\n",
    "from sklearn.decomposition import PCA\r\n",
    "import joblib\r\n",
    "\r\n",
    "import plotly.io as pio\r\n",
    "pio.renderers.default = \"vscode\"\r\n",
    "from pandas import read_csv"
   ],
   "outputs": [],
   "metadata": {}
  },
  {
   "cell_type": "code",
   "execution_count": 20,
   "source": [
    "modelo = joblib.load(\"./modelo/classificador_cliente.pkl\")"
   ],
   "outputs": [],
   "metadata": {}
  },
  {
   "cell_type": "code",
   "execution_count": 17,
   "source": [
    "filename= \"datasetclusterizado.csv\"\r\n",
    "file= pd.read_csv(filename,sep=\"\\t\",decimal='.', engine='python')\r\n",
    "file.head()"
   ],
   "outputs": [
    {
     "output_type": "execute_result",
     "data": {
      "text/html": [
       "<div>\n",
       "<style scoped>\n",
       "    .dataframe tbody tr th:only-of-type {\n",
       "        vertical-align: middle;\n",
       "    }\n",
       "\n",
       "    .dataframe tbody tr th {\n",
       "        vertical-align: top;\n",
       "    }\n",
       "\n",
       "    .dataframe thead th {\n",
       "        text-align: right;\n",
       "    }\n",
       "</style>\n",
       "<table border=\"1\" class=\"dataframe\">\n",
       "  <thead>\n",
       "    <tr style=\"text-align: right;\">\n",
       "      <th></th>\n",
       "      <th>Unnamed: 0</th>\n",
       "      <th>maiorAtraso</th>\n",
       "      <th>margemBrutaAcumulada</th>\n",
       "      <th>percentualProtestos</th>\n",
       "      <th>prazoMedioRecebimentoVendas</th>\n",
       "      <th>titulosEmAberto</th>\n",
       "      <th>valorSolicitado</th>\n",
       "      <th>definicaoRisco</th>\n",
       "      <th>dashboardCorrelacao</th>\n",
       "      <th>valorAprovado</th>\n",
       "      <th>...</th>\n",
       "      <th>estoque</th>\n",
       "      <th>faturamentoBruto</th>\n",
       "      <th>margemBruta</th>\n",
       "      <th>custos</th>\n",
       "      <th>capitalSocial</th>\n",
       "      <th>restricoes</th>\n",
       "      <th>empresa_MeEppMei</th>\n",
       "      <th>scorePontualidade</th>\n",
       "      <th>limiteEmpresaAnaliseCredito</th>\n",
       "      <th>cluster</th>\n",
       "    </tr>\n",
       "  </thead>\n",
       "  <tbody>\n",
       "    <tr>\n",
       "      <th>0</th>\n",
       "      <td>4</td>\n",
       "      <td>20</td>\n",
       "      <td>0.454088</td>\n",
       "      <td>0.0</td>\n",
       "      <td>20</td>\n",
       "      <td>1486.95</td>\n",
       "      <td>50000.0</td>\n",
       "      <td>2</td>\n",
       "      <td>0.000000</td>\n",
       "      <td>50000.0</td>\n",
       "      <td>...</td>\n",
       "      <td>3047791.0</td>\n",
       "      <td>40779757.0</td>\n",
       "      <td>81459809.0</td>\n",
       "      <td>40680051.0</td>\n",
       "      <td>75000.0</td>\n",
       "      <td>False</td>\n",
       "      <td>False</td>\n",
       "      <td>1.0</td>\n",
       "      <td>89000.0</td>\n",
       "      <td>0</td>\n",
       "    </tr>\n",
       "    <tr>\n",
       "      <th>1</th>\n",
       "      <td>5</td>\n",
       "      <td>0</td>\n",
       "      <td>0.000000</td>\n",
       "      <td>0.0</td>\n",
       "      <td>0</td>\n",
       "      <td>0.00</td>\n",
       "      <td>25000.0</td>\n",
       "      <td>3</td>\n",
       "      <td>0.000000</td>\n",
       "      <td>20000.0</td>\n",
       "      <td>...</td>\n",
       "      <td>3047791.0</td>\n",
       "      <td>918476.0</td>\n",
       "      <td>0.0</td>\n",
       "      <td>0.0</td>\n",
       "      <td>15000.0</td>\n",
       "      <td>False</td>\n",
       "      <td>True</td>\n",
       "      <td>0.0</td>\n",
       "      <td>38400.0</td>\n",
       "      <td>2</td>\n",
       "    </tr>\n",
       "    <tr>\n",
       "      <th>2</th>\n",
       "      <td>6</td>\n",
       "      <td>16</td>\n",
       "      <td>0.000000</td>\n",
       "      <td>0.0</td>\n",
       "      <td>0</td>\n",
       "      <td>0.00</td>\n",
       "      <td>100000.0</td>\n",
       "      <td>3</td>\n",
       "      <td>-0.997517</td>\n",
       "      <td>80000.0</td>\n",
       "      <td>...</td>\n",
       "      <td>3047791.0</td>\n",
       "      <td>239016696.0</td>\n",
       "      <td>-7540544.0</td>\n",
       "      <td>156394112.0</td>\n",
       "      <td>30515674.0</td>\n",
       "      <td>True</td>\n",
       "      <td>False</td>\n",
       "      <td>0.0</td>\n",
       "      <td>18132588.0</td>\n",
       "      <td>3</td>\n",
       "    </tr>\n",
       "    <tr>\n",
       "      <th>3</th>\n",
       "      <td>7</td>\n",
       "      <td>4</td>\n",
       "      <td>0.350175</td>\n",
       "      <td>0.0</td>\n",
       "      <td>102</td>\n",
       "      <td>208980.00</td>\n",
       "      <td>300000.0</td>\n",
       "      <td>1</td>\n",
       "      <td>0.000000</td>\n",
       "      <td>300000.0</td>\n",
       "      <td>...</td>\n",
       "      <td>11902384.0</td>\n",
       "      <td>11958227.0</td>\n",
       "      <td>9357949.0</td>\n",
       "      <td>0.0</td>\n",
       "      <td>120000.0</td>\n",
       "      <td>False</td>\n",
       "      <td>False</td>\n",
       "      <td>1.0</td>\n",
       "      <td>768233.0</td>\n",
       "      <td>0</td>\n",
       "    </tr>\n",
       "    <tr>\n",
       "      <th>4</th>\n",
       "      <td>8</td>\n",
       "      <td>43</td>\n",
       "      <td>0.245818</td>\n",
       "      <td>0.0</td>\n",
       "      <td>27</td>\n",
       "      <td>6432.00</td>\n",
       "      <td>400000.0</td>\n",
       "      <td>2</td>\n",
       "      <td>0.000000</td>\n",
       "      <td>400000.0</td>\n",
       "      <td>...</td>\n",
       "      <td>11420388.0</td>\n",
       "      <td>72479551.0</td>\n",
       "      <td>6233236.0</td>\n",
       "      <td>-49267738.0</td>\n",
       "      <td>1000000.0</td>\n",
       "      <td>False</td>\n",
       "      <td>False</td>\n",
       "      <td>1.0</td>\n",
       "      <td>6910219.0</td>\n",
       "      <td>0</td>\n",
       "    </tr>\n",
       "  </tbody>\n",
       "</table>\n",
       "<p>5 rows × 24 columns</p>\n",
       "</div>"
      ],
      "text/plain": [
       "   Unnamed: 0  maiorAtraso  margemBrutaAcumulada  percentualProtestos  \\\n",
       "0           4           20              0.454088                  0.0   \n",
       "1           5            0              0.000000                  0.0   \n",
       "2           6           16              0.000000                  0.0   \n",
       "3           7            4              0.350175                  0.0   \n",
       "4           8           43              0.245818                  0.0   \n",
       "\n",
       "   prazoMedioRecebimentoVendas  titulosEmAberto  valorSolicitado  \\\n",
       "0                           20          1486.95          50000.0   \n",
       "1                            0             0.00          25000.0   \n",
       "2                            0             0.00         100000.0   \n",
       "3                          102        208980.00         300000.0   \n",
       "4                           27          6432.00         400000.0   \n",
       "\n",
       "   definicaoRisco  dashboardCorrelacao  valorAprovado  ...     estoque  \\\n",
       "0               2             0.000000        50000.0  ...   3047791.0   \n",
       "1               3             0.000000        20000.0  ...   3047791.0   \n",
       "2               3            -0.997517        80000.0  ...   3047791.0   \n",
       "3               1             0.000000       300000.0  ...  11902384.0   \n",
       "4               2             0.000000       400000.0  ...  11420388.0   \n",
       "\n",
       "   faturamentoBruto  margemBruta       custos  capitalSocial  restricoes  \\\n",
       "0        40779757.0   81459809.0   40680051.0        75000.0       False   \n",
       "1          918476.0          0.0          0.0        15000.0       False   \n",
       "2       239016696.0   -7540544.0  156394112.0     30515674.0        True   \n",
       "3        11958227.0    9357949.0          0.0       120000.0       False   \n",
       "4        72479551.0    6233236.0  -49267738.0      1000000.0       False   \n",
       "\n",
       "   empresa_MeEppMei  scorePontualidade  limiteEmpresaAnaliseCredito  cluster  \n",
       "0             False                1.0                      89000.0        0  \n",
       "1              True                0.0                      38400.0        2  \n",
       "2             False                0.0                   18132588.0        3  \n",
       "3             False                1.0                     768233.0        0  \n",
       "4             False                1.0                    6910219.0        0  \n",
       "\n",
       "[5 rows x 24 columns]"
      ]
     },
     "metadata": {},
     "execution_count": 17
    }
   ],
   "metadata": {}
  },
  {
   "cell_type": "code",
   "execution_count": 56,
   "source": [
    "    df=file.copy()\r\n",
    "    X_minmax = MinMaxScaler().fit_transform(df.values)\r\n",
    "    df_norm = pd.DataFrame(X_minmax)\r\n",
    "    df_norm.columns = df.columns\r\n",
    "    df_norm['cluster'] = modelo.labels_ #bestKmeans.labels_\r\n",
    "    #df_norm.head()  \r\n",
    "    #df_res = df_norm.groupby('cluster').mean()\r\n",
    "    #fig, axes = plt.subplots(1, figsize=(32,10))\r\n",
    "    #df_res.plot(kind='bar',ax=axes[\"cluster\"])\r\n",
    "    #fig.update_layout(margin=dict(l=0, r=0, b=0, t=0),autosize=False,width=800,height=800,)\r\n",
    "\r\n",
    "    fig = px.bar(df_res, x=\"cluster\", y=df_res.columns, title=\"Wide-Form Input\")\r\n",
    "    fig.show()\r\n"
   ],
   "outputs": [
    {
     "output_type": "display_data",
     "data": {
      "application/vnd.plotly.v1+json": {
       "config": {
        "plotlyServerURL": "https://plot.ly"
       },
       "data": [
        {
         "alignmentgroup": "True",
         "hovertemplate": "variable=maiorAtraso<br>cluster=%{x}<br>value=%{y}<extra></extra>",
         "legendgroup": "maiorAtraso",
         "marker": {
          "color": "#636efa",
          "pattern": {
           "shape": ""
          }
         },
         "name": "maiorAtraso",
         "offsetgroup": "maiorAtraso",
         "orientation": "v",
         "showlegend": true,
         "textposition": "auto",
         "type": "bar",
         "x": [
          0,
          1,
          2,
          3,
          4
         ],
         "xaxis": "x",
         "y": [
          0.02015810276679842,
          0.017167114624505927,
          0.016685077933936542,
          0.020649312921996177,
          0.024547664056170673
         ],
         "yaxis": "y"
        },
        {
         "alignmentgroup": "True",
         "hovertemplate": "variable=margemBrutaAcumulada<br>cluster=%{x}<br>value=%{y}<extra></extra>",
         "legendgroup": "margemBrutaAcumulada",
         "marker": {
          "color": "#EF553B",
          "pattern": {
           "shape": ""
          }
         },
         "name": "margemBrutaAcumulada",
         "offsetgroup": "margemBrutaAcumulada",
         "orientation": "v",
         "showlegend": true,
         "textposition": "auto",
         "type": "bar",
         "x": [
          0,
          1,
          2,
          3,
          4
         ],
         "xaxis": "x",
         "y": [
          0.4431119307293292,
          0.43111745357243997,
          0.02366759587641357,
          0.020662458489532295,
          0.4373348215082298
         ],
         "yaxis": "y"
        },
        {
         "alignmentgroup": "True",
         "hovertemplate": "variable=percentualProtestos<br>cluster=%{x}<br>value=%{y}<extra></extra>",
         "legendgroup": "percentualProtestos",
         "marker": {
          "color": "#00cc96",
          "pattern": {
           "shape": ""
          }
         },
         "name": "percentualProtestos",
         "offsetgroup": "percentualProtestos",
         "orientation": "v",
         "showlegend": true,
         "textposition": "auto",
         "type": "bar",
         "x": [
          0,
          1,
          2,
          3,
          4
         ],
         "xaxis": "x",
         "y": [
          0.00018775902621261437,
          0.000664245483224379,
          0.00008917234329309853,
          0.000544246667379427,
          0.0017025757245769334
         ],
         "yaxis": "y"
        },
        {
         "alignmentgroup": "True",
         "hovertemplate": "variable=prazoMedioRecebimentoVendas<br>cluster=%{x}<br>value=%{y}<extra></extra>",
         "legendgroup": "prazoMedioRecebimentoVendas",
         "marker": {
          "color": "#ab63fa",
          "pattern": {
           "shape": ""
          }
         },
         "name": "prazoMedioRecebimentoVendas",
         "offsetgroup": "prazoMedioRecebimentoVendas",
         "orientation": "v",
         "showlegend": true,
         "textposition": "auto",
         "type": "bar",
         "x": [
          0,
          1,
          2,
          3,
          4
         ],
         "xaxis": "x",
         "y": [
          0.017197298483839666,
          0.01669084112149533,
          0.0011514904453469822,
          0.0019191141269279603,
          0.014837174203285541
         ],
         "yaxis": "y"
        },
        {
         "alignmentgroup": "True",
         "hovertemplate": "variable=titulosEmAberto<br>cluster=%{x}<br>value=%{y}<extra></extra>",
         "legendgroup": "titulosEmAberto",
         "marker": {
          "color": "#FFA15A",
          "pattern": {
           "shape": ""
          }
         },
         "name": "titulosEmAberto",
         "offsetgroup": "titulosEmAberto",
         "orientation": "v",
         "showlegend": true,
         "textposition": "auto",
         "type": "bar",
         "x": [
          0,
          1,
          2,
          3,
          4
         ],
         "xaxis": "x",
         "y": [
          0.022545016318598086,
          0.010330415544426982,
          0.00021379376707292177,
          0.001331830683009451,
          0.02875344281117989
         ],
         "yaxis": "y"
        },
        {
         "alignmentgroup": "True",
         "hovertemplate": "variable=valorSolicitado<br>cluster=%{x}<br>value=%{y}<extra></extra>",
         "legendgroup": "valorSolicitado",
         "marker": {
          "color": "#19d3f3",
          "pattern": {
           "shape": ""
          }
         },
         "name": "valorSolicitado",
         "offsetgroup": "valorSolicitado",
         "orientation": "v",
         "showlegend": true,
         "textposition": "auto",
         "type": "bar",
         "x": [
          0,
          1,
          2,
          3,
          4
         ],
         "xaxis": "x",
         "y": [
          0.000734991477149891,
          0.00016959290010619331,
          0.00022808853647676936,
          0.0003153463818248738,
          0.00026808155410398767
         ],
         "yaxis": "y"
        },
        {
         "alignmentgroup": "True",
         "hovertemplate": "variable=definicaoRisco<br>cluster=%{x}<br>value=%{y}<extra></extra>",
         "legendgroup": "definicaoRisco",
         "marker": {
          "color": "#FF6692",
          "pattern": {
           "shape": ""
          }
         },
         "name": "definicaoRisco",
         "offsetgroup": "definicaoRisco",
         "orientation": "v",
         "showlegend": true,
         "textposition": "auto",
         "type": "bar",
         "x": [
          0,
          1,
          2,
          3,
          4
         ],
         "xaxis": "x",
         "y": [
          0.31140578956491594,
          0.5317333333333334,
          0.564889606892838,
          0.311804008908686,
          0.5165631469979296
         ],
         "yaxis": "y"
        },
        {
         "alignmentgroup": "True",
         "hovertemplate": "variable=dashboardCorrelacao<br>cluster=%{x}<br>value=%{y}<extra></extra>",
         "legendgroup": "dashboardCorrelacao",
         "marker": {
          "color": "#B6E880",
          "pattern": {
           "shape": ""
          }
         },
         "name": "dashboardCorrelacao",
         "offsetgroup": "dashboardCorrelacao",
         "orientation": "v",
         "showlegend": true,
         "textposition": "auto",
         "type": "bar",
         "x": [
          0,
          1,
          2,
          3,
          4
         ],
         "xaxis": "x",
         "y": [
          0.5148362147931594,
          0.5354266479563214,
          0.5395536219377929,
          0.5115720208153309,
          0.5547325505121337
         ],
         "yaxis": "y"
        },
        {
         "alignmentgroup": "True",
         "hovertemplate": "variable=valorAprovado<br>cluster=%{x}<br>value=%{y}<extra></extra>",
         "legendgroup": "valorAprovado",
         "marker": {
          "color": "#FF97FF",
          "pattern": {
           "shape": ""
          }
         },
         "name": "valorAprovado",
         "offsetgroup": "valorAprovado",
         "orientation": "v",
         "showlegend": true,
         "textposition": "auto",
         "type": "bar",
         "x": [
          0,
          1,
          2,
          3,
          4
         ],
         "xaxis": "x",
         "y": [
          0.017122244983257272,
          0.008622346355140186,
          0.008079129738951881,
          0.03895168089003601,
          0.03511831703140419
         ],
         "yaxis": "y"
        },
        {
         "alignmentgroup": "True",
         "hovertemplate": "variable=ativoCirculante<br>cluster=%{x}<br>value=%{y}<extra></extra>",
         "legendgroup": "ativoCirculante",
         "marker": {
          "color": "#FECB52",
          "pattern": {
           "shape": ""
          }
         },
         "name": "ativoCirculante",
         "offsetgroup": "ativoCirculante",
         "orientation": "v",
         "showlegend": true,
         "textposition": "auto",
         "type": "bar",
         "x": [
          0,
          1,
          2,
          3,
          4
         ],
         "xaxis": "x",
         "y": [
          0.013157862616970049,
          0.006631914747087949,
          0.010288344893712149,
          0.048370270314647065,
          0.034606848534768635
         ],
         "yaxis": "y"
        },
        {
         "alignmentgroup": "True",
         "hovertemplate": "variable=passivoCirculante<br>cluster=%{x}<br>value=%{y}<extra></extra>",
         "legendgroup": "passivoCirculante",
         "marker": {
          "color": "#636efa",
          "pattern": {
           "shape": ""
          }
         },
         "name": "passivoCirculante",
         "offsetgroup": "passivoCirculante",
         "orientation": "v",
         "showlegend": true,
         "textposition": "auto",
         "type": "bar",
         "x": [
          0,
          1,
          2,
          3,
          4
         ],
         "xaxis": "x",
         "y": [
          0.010060824727360609,
          0.005731294932781907,
          0.009691345274306493,
          0.03867996793484004,
          0.024480423024016536
         ],
         "yaxis": "y"
        },
        {
         "alignmentgroup": "True",
         "hovertemplate": "variable=totalPatrimonioLiquido<br>cluster=%{x}<br>value=%{y}<extra></extra>",
         "legendgroup": "totalPatrimonioLiquido",
         "marker": {
          "color": "#EF553B",
          "pattern": {
           "shape": ""
          }
         },
         "name": "totalPatrimonioLiquido",
         "offsetgroup": "totalPatrimonioLiquido",
         "orientation": "v",
         "showlegend": true,
         "textposition": "auto",
         "type": "bar",
         "x": [
          0,
          1,
          2,
          3,
          4
         ],
         "xaxis": "x",
         "y": [
          0.11328970028734602,
          0.10880861983092195,
          0.11116413176164623,
          0.14261425144593362,
          0.1224403718140803
         ],
         "yaxis": "y"
        },
        {
         "alignmentgroup": "True",
         "hovertemplate": "variable=endividamento<br>cluster=%{x}<br>value=%{y}<extra></extra>",
         "legendgroup": "endividamento",
         "marker": {
          "color": "#00cc96",
          "pattern": {
           "shape": ""
          }
         },
         "name": "endividamento",
         "offsetgroup": "endividamento",
         "orientation": "v",
         "showlegend": true,
         "textposition": "auto",
         "type": "bar",
         "x": [
          0,
          1,
          2,
          3,
          4
         ],
         "xaxis": "x",
         "y": [
          0.0038712335555616444,
          0.002098566572550673,
          0.0029623908632673192,
          0.020481822379299238,
          0.009036133493170541
         ],
         "yaxis": "y"
        },
        {
         "alignmentgroup": "True",
         "hovertemplate": "variable=estoque<br>cluster=%{x}<br>value=%{y}<extra></extra>",
         "legendgroup": "estoque",
         "marker": {
          "color": "#ab63fa",
          "pattern": {
           "shape": ""
          }
         },
         "name": "estoque",
         "offsetgroup": "estoque",
         "orientation": "v",
         "showlegend": true,
         "textposition": "auto",
         "type": "bar",
         "x": [
          0,
          1,
          2,
          3,
          4
         ],
         "xaxis": "x",
         "y": [
          0.007535746048417406,
          0.004283486752811911,
          0.006198658687530949,
          0.035237933874950764,
          0.027579522636310555
         ],
         "yaxis": "y"
        },
        {
         "alignmentgroup": "True",
         "hovertemplate": "variable=faturamentoBruto<br>cluster=%{x}<br>value=%{y}<extra></extra>",
         "legendgroup": "faturamentoBruto",
         "marker": {
          "color": "#FFA15A",
          "pattern": {
           "shape": ""
          }
         },
         "name": "faturamentoBruto",
         "offsetgroup": "faturamentoBruto",
         "orientation": "v",
         "showlegend": true,
         "textposition": "auto",
         "type": "bar",
         "x": [
          0,
          1,
          2,
          3,
          4
         ],
         "xaxis": "x",
         "y": [
          0.006391994630161911,
          0.001371106296666026,
          0.0011154530281806967,
          0.035258438976680705,
          0.02675817985532375
         ],
         "yaxis": "y"
        },
        {
         "alignmentgroup": "True",
         "hovertemplate": "variable=margemBruta<br>cluster=%{x}<br>value=%{y}<extra></extra>",
         "legendgroup": "margemBruta",
         "marker": {
          "color": "#19d3f3",
          "pattern": {
           "shape": ""
          }
         },
         "name": "margemBruta",
         "offsetgroup": "margemBruta",
         "orientation": "v",
         "showlegend": true,
         "textposition": "auto",
         "type": "bar",
         "x": [
          0,
          1,
          2,
          3,
          4
         ],
         "xaxis": "x",
         "y": [
          0.15755633200607055,
          0.15492948791402256,
          0.1548071074133016,
          0.17115662081640284,
          0.16591667344762415
         ],
         "yaxis": "y"
        },
        {
         "alignmentgroup": "True",
         "hovertemplate": "variable=custos<br>cluster=%{x}<br>value=%{y}<extra></extra>",
         "legendgroup": "custos",
         "marker": {
          "color": "#FF6692",
          "pattern": {
           "shape": ""
          }
         },
         "name": "custos",
         "offsetgroup": "custos",
         "orientation": "v",
         "showlegend": true,
         "textposition": "auto",
         "type": "bar",
         "x": [
          0,
          1,
          2,
          3,
          4
         ],
         "xaxis": "x",
         "y": [
          0.07715294417463886,
          0.07415998159078609,
          0.07341413232153013,
          0.10017490974761223,
          0.09002556402909703
         ],
         "yaxis": "y"
        },
        {
         "alignmentgroup": "True",
         "hovertemplate": "variable=capitalSocial<br>cluster=%{x}<br>value=%{y}<extra></extra>",
         "legendgroup": "capitalSocial",
         "marker": {
          "color": "#B6E880",
          "pattern": {
           "shape": ""
          }
         },
         "name": "capitalSocial",
         "offsetgroup": "capitalSocial",
         "orientation": "v",
         "showlegend": true,
         "textposition": "auto",
         "type": "bar",
         "x": [
          0,
          1,
          2,
          3,
          4
         ],
         "xaxis": "x",
         "y": [
          0.005605838392672671,
          0.0001910711133627369,
          0.00013385414991668257,
          0.02992090512741258,
          0.053346833648896176
         ],
         "yaxis": "y"
        },
        {
         "alignmentgroup": "True",
         "hovertemplate": "variable=restricoes<br>cluster=%{x}<br>value=%{y}<extra></extra>",
         "legendgroup": "restricoes",
         "marker": {
          "color": "#FF97FF",
          "pattern": {
           "shape": ""
          }
         },
         "name": "restricoes",
         "offsetgroup": "restricoes",
         "orientation": "v",
         "showlegend": true,
         "textposition": "auto",
         "type": "bar",
         "x": [
          0,
          1,
          2,
          3,
          4
         ],
         "xaxis": "x",
         "y": [
          0,
          0,
          0.07754442649434572,
          0.1358574610244989,
          1
         ],
         "yaxis": "y"
        },
        {
         "alignmentgroup": "True",
         "hovertemplate": "variable=empresa_MeEppMei<br>cluster=%{x}<br>value=%{y}<extra></extra>",
         "legendgroup": "empresa_MeEppMei",
         "marker": {
          "color": "#FECB52",
          "pattern": {
           "shape": ""
          }
         },
         "name": "empresa_MeEppMei",
         "offsetgroup": "empresa_MeEppMei",
         "orientation": "v",
         "showlegend": true,
         "textposition": "auto",
         "type": "bar",
         "x": [
          0,
          1,
          2,
          3,
          4
         ],
         "xaxis": "x",
         "y": [
          0,
          1,
          1,
          0,
          0.2732919254658385
         ],
         "yaxis": "y"
        },
        {
         "alignmentgroup": "True",
         "hovertemplate": "variable=scorePontualidade<br>cluster=%{x}<br>value=%{y}<extra></extra>",
         "legendgroup": "scorePontualidade",
         "marker": {
          "color": "#636efa",
          "pattern": {
           "shape": ""
          }
         },
         "name": "scorePontualidade",
         "offsetgroup": "scorePontualidade",
         "orientation": "v",
         "showlegend": true,
         "textposition": "auto",
         "type": "bar",
         "x": [
          0,
          1,
          2,
          3,
          4
         ],
         "xaxis": "x",
         "y": [
          0.9759872500910817,
          0.9732563900888799,
          0.015897891546365103,
          0.006604768164699332,
          0.9574980776881988
         ],
         "yaxis": "y"
        },
        {
         "alignmentgroup": "True",
         "hovertemplate": "variable=limiteEmpresaAnaliseCredito<br>cluster=%{x}<br>value=%{y}<extra></extra>",
         "legendgroup": "limiteEmpresaAnaliseCredito",
         "marker": {
          "color": "#EF553B",
          "pattern": {
           "shape": ""
          }
         },
         "name": "limiteEmpresaAnaliseCredito",
         "offsetgroup": "limiteEmpresaAnaliseCredito",
         "orientation": "v",
         "showlegend": true,
         "textposition": "auto",
         "type": "bar",
         "x": [
          0,
          1,
          2,
          3,
          4
         ],
         "xaxis": "x",
         "y": [
          0.008591573717359982,
          0.0011433578758272337,
          0.0003887148545721036,
          0.026670430354082002,
          0.02491103343968398
         ],
         "yaxis": "y"
        }
       ],
       "layout": {
        "barmode": "relative",
        "legend": {
         "title": {
          "text": "variable"
         },
         "tracegroupgap": 0
        },
        "template": {
         "data": {
          "bar": [
           {
            "error_x": {
             "color": "#2a3f5f"
            },
            "error_y": {
             "color": "#2a3f5f"
            },
            "marker": {
             "line": {
              "color": "#E5ECF6",
              "width": 0.5
             },
             "pattern": {
              "fillmode": "overlay",
              "size": 10,
              "solidity": 0.2
             }
            },
            "type": "bar"
           }
          ],
          "barpolar": [
           {
            "marker": {
             "line": {
              "color": "#E5ECF6",
              "width": 0.5
             },
             "pattern": {
              "fillmode": "overlay",
              "size": 10,
              "solidity": 0.2
             }
            },
            "type": "barpolar"
           }
          ],
          "carpet": [
           {
            "aaxis": {
             "endlinecolor": "#2a3f5f",
             "gridcolor": "white",
             "linecolor": "white",
             "minorgridcolor": "white",
             "startlinecolor": "#2a3f5f"
            },
            "baxis": {
             "endlinecolor": "#2a3f5f",
             "gridcolor": "white",
             "linecolor": "white",
             "minorgridcolor": "white",
             "startlinecolor": "#2a3f5f"
            },
            "type": "carpet"
           }
          ],
          "choropleth": [
           {
            "colorbar": {
             "outlinewidth": 0,
             "ticks": ""
            },
            "type": "choropleth"
           }
          ],
          "contour": [
           {
            "colorbar": {
             "outlinewidth": 0,
             "ticks": ""
            },
            "colorscale": [
             [
              0,
              "#0d0887"
             ],
             [
              0.1111111111111111,
              "#46039f"
             ],
             [
              0.2222222222222222,
              "#7201a8"
             ],
             [
              0.3333333333333333,
              "#9c179e"
             ],
             [
              0.4444444444444444,
              "#bd3786"
             ],
             [
              0.5555555555555556,
              "#d8576b"
             ],
             [
              0.6666666666666666,
              "#ed7953"
             ],
             [
              0.7777777777777778,
              "#fb9f3a"
             ],
             [
              0.8888888888888888,
              "#fdca26"
             ],
             [
              1,
              "#f0f921"
             ]
            ],
            "type": "contour"
           }
          ],
          "contourcarpet": [
           {
            "colorbar": {
             "outlinewidth": 0,
             "ticks": ""
            },
            "type": "contourcarpet"
           }
          ],
          "heatmap": [
           {
            "colorbar": {
             "outlinewidth": 0,
             "ticks": ""
            },
            "colorscale": [
             [
              0,
              "#0d0887"
             ],
             [
              0.1111111111111111,
              "#46039f"
             ],
             [
              0.2222222222222222,
              "#7201a8"
             ],
             [
              0.3333333333333333,
              "#9c179e"
             ],
             [
              0.4444444444444444,
              "#bd3786"
             ],
             [
              0.5555555555555556,
              "#d8576b"
             ],
             [
              0.6666666666666666,
              "#ed7953"
             ],
             [
              0.7777777777777778,
              "#fb9f3a"
             ],
             [
              0.8888888888888888,
              "#fdca26"
             ],
             [
              1,
              "#f0f921"
             ]
            ],
            "type": "heatmap"
           }
          ],
          "heatmapgl": [
           {
            "colorbar": {
             "outlinewidth": 0,
             "ticks": ""
            },
            "colorscale": [
             [
              0,
              "#0d0887"
             ],
             [
              0.1111111111111111,
              "#46039f"
             ],
             [
              0.2222222222222222,
              "#7201a8"
             ],
             [
              0.3333333333333333,
              "#9c179e"
             ],
             [
              0.4444444444444444,
              "#bd3786"
             ],
             [
              0.5555555555555556,
              "#d8576b"
             ],
             [
              0.6666666666666666,
              "#ed7953"
             ],
             [
              0.7777777777777778,
              "#fb9f3a"
             ],
             [
              0.8888888888888888,
              "#fdca26"
             ],
             [
              1,
              "#f0f921"
             ]
            ],
            "type": "heatmapgl"
           }
          ],
          "histogram": [
           {
            "marker": {
             "pattern": {
              "fillmode": "overlay",
              "size": 10,
              "solidity": 0.2
             }
            },
            "type": "histogram"
           }
          ],
          "histogram2d": [
           {
            "colorbar": {
             "outlinewidth": 0,
             "ticks": ""
            },
            "colorscale": [
             [
              0,
              "#0d0887"
             ],
             [
              0.1111111111111111,
              "#46039f"
             ],
             [
              0.2222222222222222,
              "#7201a8"
             ],
             [
              0.3333333333333333,
              "#9c179e"
             ],
             [
              0.4444444444444444,
              "#bd3786"
             ],
             [
              0.5555555555555556,
              "#d8576b"
             ],
             [
              0.6666666666666666,
              "#ed7953"
             ],
             [
              0.7777777777777778,
              "#fb9f3a"
             ],
             [
              0.8888888888888888,
              "#fdca26"
             ],
             [
              1,
              "#f0f921"
             ]
            ],
            "type": "histogram2d"
           }
          ],
          "histogram2dcontour": [
           {
            "colorbar": {
             "outlinewidth": 0,
             "ticks": ""
            },
            "colorscale": [
             [
              0,
              "#0d0887"
             ],
             [
              0.1111111111111111,
              "#46039f"
             ],
             [
              0.2222222222222222,
              "#7201a8"
             ],
             [
              0.3333333333333333,
              "#9c179e"
             ],
             [
              0.4444444444444444,
              "#bd3786"
             ],
             [
              0.5555555555555556,
              "#d8576b"
             ],
             [
              0.6666666666666666,
              "#ed7953"
             ],
             [
              0.7777777777777778,
              "#fb9f3a"
             ],
             [
              0.8888888888888888,
              "#fdca26"
             ],
             [
              1,
              "#f0f921"
             ]
            ],
            "type": "histogram2dcontour"
           }
          ],
          "mesh3d": [
           {
            "colorbar": {
             "outlinewidth": 0,
             "ticks": ""
            },
            "type": "mesh3d"
           }
          ],
          "parcoords": [
           {
            "line": {
             "colorbar": {
              "outlinewidth": 0,
              "ticks": ""
             }
            },
            "type": "parcoords"
           }
          ],
          "pie": [
           {
            "automargin": true,
            "type": "pie"
           }
          ],
          "scatter": [
           {
            "marker": {
             "colorbar": {
              "outlinewidth": 0,
              "ticks": ""
             }
            },
            "type": "scatter"
           }
          ],
          "scatter3d": [
           {
            "line": {
             "colorbar": {
              "outlinewidth": 0,
              "ticks": ""
             }
            },
            "marker": {
             "colorbar": {
              "outlinewidth": 0,
              "ticks": ""
             }
            },
            "type": "scatter3d"
           }
          ],
          "scattercarpet": [
           {
            "marker": {
             "colorbar": {
              "outlinewidth": 0,
              "ticks": ""
             }
            },
            "type": "scattercarpet"
           }
          ],
          "scattergeo": [
           {
            "marker": {
             "colorbar": {
              "outlinewidth": 0,
              "ticks": ""
             }
            },
            "type": "scattergeo"
           }
          ],
          "scattergl": [
           {
            "marker": {
             "colorbar": {
              "outlinewidth": 0,
              "ticks": ""
             }
            },
            "type": "scattergl"
           }
          ],
          "scattermapbox": [
           {
            "marker": {
             "colorbar": {
              "outlinewidth": 0,
              "ticks": ""
             }
            },
            "type": "scattermapbox"
           }
          ],
          "scatterpolar": [
           {
            "marker": {
             "colorbar": {
              "outlinewidth": 0,
              "ticks": ""
             }
            },
            "type": "scatterpolar"
           }
          ],
          "scatterpolargl": [
           {
            "marker": {
             "colorbar": {
              "outlinewidth": 0,
              "ticks": ""
             }
            },
            "type": "scatterpolargl"
           }
          ],
          "scatterternary": [
           {
            "marker": {
             "colorbar": {
              "outlinewidth": 0,
              "ticks": ""
             }
            },
            "type": "scatterternary"
           }
          ],
          "surface": [
           {
            "colorbar": {
             "outlinewidth": 0,
             "ticks": ""
            },
            "colorscale": [
             [
              0,
              "#0d0887"
             ],
             [
              0.1111111111111111,
              "#46039f"
             ],
             [
              0.2222222222222222,
              "#7201a8"
             ],
             [
              0.3333333333333333,
              "#9c179e"
             ],
             [
              0.4444444444444444,
              "#bd3786"
             ],
             [
              0.5555555555555556,
              "#d8576b"
             ],
             [
              0.6666666666666666,
              "#ed7953"
             ],
             [
              0.7777777777777778,
              "#fb9f3a"
             ],
             [
              0.8888888888888888,
              "#fdca26"
             ],
             [
              1,
              "#f0f921"
             ]
            ],
            "type": "surface"
           }
          ],
          "table": [
           {
            "cells": {
             "fill": {
              "color": "#EBF0F8"
             },
             "line": {
              "color": "white"
             }
            },
            "header": {
             "fill": {
              "color": "#C8D4E3"
             },
             "line": {
              "color": "white"
             }
            },
            "type": "table"
           }
          ]
         },
         "layout": {
          "annotationdefaults": {
           "arrowcolor": "#2a3f5f",
           "arrowhead": 0,
           "arrowwidth": 1
          },
          "autotypenumbers": "strict",
          "coloraxis": {
           "colorbar": {
            "outlinewidth": 0,
            "ticks": ""
           }
          },
          "colorscale": {
           "diverging": [
            [
             0,
             "#8e0152"
            ],
            [
             0.1,
             "#c51b7d"
            ],
            [
             0.2,
             "#de77ae"
            ],
            [
             0.3,
             "#f1b6da"
            ],
            [
             0.4,
             "#fde0ef"
            ],
            [
             0.5,
             "#f7f7f7"
            ],
            [
             0.6,
             "#e6f5d0"
            ],
            [
             0.7,
             "#b8e186"
            ],
            [
             0.8,
             "#7fbc41"
            ],
            [
             0.9,
             "#4d9221"
            ],
            [
             1,
             "#276419"
            ]
           ],
           "sequential": [
            [
             0,
             "#0d0887"
            ],
            [
             0.1111111111111111,
             "#46039f"
            ],
            [
             0.2222222222222222,
             "#7201a8"
            ],
            [
             0.3333333333333333,
             "#9c179e"
            ],
            [
             0.4444444444444444,
             "#bd3786"
            ],
            [
             0.5555555555555556,
             "#d8576b"
            ],
            [
             0.6666666666666666,
             "#ed7953"
            ],
            [
             0.7777777777777778,
             "#fb9f3a"
            ],
            [
             0.8888888888888888,
             "#fdca26"
            ],
            [
             1,
             "#f0f921"
            ]
           ],
           "sequentialminus": [
            [
             0,
             "#0d0887"
            ],
            [
             0.1111111111111111,
             "#46039f"
            ],
            [
             0.2222222222222222,
             "#7201a8"
            ],
            [
             0.3333333333333333,
             "#9c179e"
            ],
            [
             0.4444444444444444,
             "#bd3786"
            ],
            [
             0.5555555555555556,
             "#d8576b"
            ],
            [
             0.6666666666666666,
             "#ed7953"
            ],
            [
             0.7777777777777778,
             "#fb9f3a"
            ],
            [
             0.8888888888888888,
             "#fdca26"
            ],
            [
             1,
             "#f0f921"
            ]
           ]
          },
          "colorway": [
           "#636efa",
           "#EF553B",
           "#00cc96",
           "#ab63fa",
           "#FFA15A",
           "#19d3f3",
           "#FF6692",
           "#B6E880",
           "#FF97FF",
           "#FECB52"
          ],
          "font": {
           "color": "#2a3f5f"
          },
          "geo": {
           "bgcolor": "white",
           "lakecolor": "white",
           "landcolor": "#E5ECF6",
           "showlakes": true,
           "showland": true,
           "subunitcolor": "white"
          },
          "hoverlabel": {
           "align": "left"
          },
          "hovermode": "closest",
          "mapbox": {
           "style": "light"
          },
          "paper_bgcolor": "white",
          "plot_bgcolor": "#E5ECF6",
          "polar": {
           "angularaxis": {
            "gridcolor": "white",
            "linecolor": "white",
            "ticks": ""
           },
           "bgcolor": "#E5ECF6",
           "radialaxis": {
            "gridcolor": "white",
            "linecolor": "white",
            "ticks": ""
           }
          },
          "scene": {
           "xaxis": {
            "backgroundcolor": "#E5ECF6",
            "gridcolor": "white",
            "gridwidth": 2,
            "linecolor": "white",
            "showbackground": true,
            "ticks": "",
            "zerolinecolor": "white"
           },
           "yaxis": {
            "backgroundcolor": "#E5ECF6",
            "gridcolor": "white",
            "gridwidth": 2,
            "linecolor": "white",
            "showbackground": true,
            "ticks": "",
            "zerolinecolor": "white"
           },
           "zaxis": {
            "backgroundcolor": "#E5ECF6",
            "gridcolor": "white",
            "gridwidth": 2,
            "linecolor": "white",
            "showbackground": true,
            "ticks": "",
            "zerolinecolor": "white"
           }
          },
          "shapedefaults": {
           "line": {
            "color": "#2a3f5f"
           }
          },
          "ternary": {
           "aaxis": {
            "gridcolor": "white",
            "linecolor": "white",
            "ticks": ""
           },
           "baxis": {
            "gridcolor": "white",
            "linecolor": "white",
            "ticks": ""
           },
           "bgcolor": "#E5ECF6",
           "caxis": {
            "gridcolor": "white",
            "linecolor": "white",
            "ticks": ""
           }
          },
          "title": {
           "x": 0.05
          },
          "xaxis": {
           "automargin": true,
           "gridcolor": "white",
           "linecolor": "white",
           "ticks": "",
           "title": {
            "standoff": 15
           },
           "zerolinecolor": "white",
           "zerolinewidth": 2
          },
          "yaxis": {
           "automargin": true,
           "gridcolor": "white",
           "linecolor": "white",
           "ticks": "",
           "title": {
            "standoff": 15
           },
           "zerolinecolor": "white",
           "zerolinewidth": 2
          }
         }
        },
        "title": {
         "text": "Wide-Form Input"
        },
        "xaxis": {
         "anchor": "y",
         "domain": [
          0,
          1
         ],
         "title": {
          "text": "cluster"
         }
        },
        "yaxis": {
         "anchor": "x",
         "domain": [
          0,
          1
         ],
         "title": {
          "text": "value"
         }
        }
       }
      }
     },
     "metadata": {}
    }
   ],
   "metadata": {}
  },
  {
   "cell_type": "code",
   "execution_count": 57,
   "source": [
    "df_res = df_norm.groupby('cluster',as_index=False).mean()\r\n",
    "#df_res.drop(df_res.columns[1],axis=1,inplace=True)\r\n"
   ],
   "outputs": [],
   "metadata": {}
  },
  {
   "cell_type": "code",
   "execution_count": 65,
   "source": [
    "df_res = df_res.reindex(sorted(df_res.columns), axis=1)\r\n",
    "df_res.info()\r\n",
    "#print(df_res.columns[1])\r\n",
    "#df_res\r\n"
   ],
   "outputs": [
    {
     "output_type": "stream",
     "name": "stdout",
     "text": [
      "<class 'pandas.core.frame.DataFrame'>\n",
      "RangeIndex: 5 entries, 0 to 4\n",
      "Data columns (total 24 columns):\n",
      " #   Column                       Non-Null Count  Dtype  \n",
      "---  ------                       --------------  -----  \n",
      " 0   Unnamed: 0                   5 non-null      float64\n",
      " 1   ativoCirculante              5 non-null      float64\n",
      " 2   capitalSocial                5 non-null      float64\n",
      " 3   cluster                      5 non-null      int64  \n",
      " 4   custos                       5 non-null      float64\n",
      " 5   dashboardCorrelacao          5 non-null      float64\n",
      " 6   definicaoRisco               5 non-null      float64\n",
      " 7   empresa_MeEppMei             5 non-null      float64\n",
      " 8   endividamento                5 non-null      float64\n",
      " 9   estoque                      5 non-null      float64\n",
      " 10  faturamentoBruto             5 non-null      float64\n",
      " 11  limiteEmpresaAnaliseCredito  5 non-null      float64\n",
      " 12  maiorAtraso                  5 non-null      float64\n",
      " 13  margemBruta                  5 non-null      float64\n",
      " 14  margemBrutaAcumulada         5 non-null      float64\n",
      " 15  passivoCirculante            5 non-null      float64\n",
      " 16  percentualProtestos          5 non-null      float64\n",
      " 17  prazoMedioRecebimentoVendas  5 non-null      float64\n",
      " 18  restricoes                   5 non-null      float64\n",
      " 19  scorePontualidade            5 non-null      float64\n",
      " 20  titulosEmAberto              5 non-null      float64\n",
      " 21  totalPatrimonioLiquido       5 non-null      float64\n",
      " 22  valorAprovado                5 non-null      float64\n",
      " 23  valorSolicitado              5 non-null      float64\n",
      "dtypes: float64(23), int64(1)\n",
      "memory usage: 1.1 KB\n"
     ]
    }
   ],
   "metadata": {}
  },
  {
   "cell_type": "code",
   "execution_count": null,
   "source": [],
   "outputs": [],
   "metadata": {}
  }
 ],
 "metadata": {
  "orig_nbformat": 4,
  "language_info": {
   "name": "python",
   "version": "3.9.6",
   "mimetype": "text/x-python",
   "codemirror_mode": {
    "name": "ipython",
    "version": 3
   },
   "pygments_lexer": "ipython3",
   "nbconvert_exporter": "python",
   "file_extension": ".py"
  },
  "kernelspec": {
   "name": "python3",
   "display_name": "Python 3.9.6 64-bit ('bootcamp': conda)"
  },
  "interpreter": {
   "hash": "4ca7a686c1986d2f001f62bcf8ea3a3e95e421c5419784c6d36a6b094213d693"
  }
 },
 "nbformat": 4,
 "nbformat_minor": 2
}