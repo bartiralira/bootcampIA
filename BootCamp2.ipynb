{
 "cells": [
  {
   "cell_type": "markdown",
   "source": [
    "***Participantes (RM - NOME):***<br>\r\n",
    "Vitor Luiz Carvalhal - 337129<br>\r\n",
    "Ricardo Fabbro Antonelli - 339505<br>\r\n",
    "Bartira Lira Lafiandre - 340177<br>\r\n",
    "Tiago Batista Pessoa - 339575<br>\r\n"
   ],
   "metadata": {}
  },
  {
   "cell_type": "markdown",
   "source": [
    "## **1.Bibliotecas e afins**"
   ],
   "metadata": {}
  },
  {
   "cell_type": "code",
   "execution_count": 48,
   "source": [
    "import pandas as pd\r\n",
    "import matplotlib.pyplot as plt\r\n",
    "import numpy as np\r\n",
    "import missingno as msno\r\n",
    "import seaborn as sbs\r\n",
    "import sklearn.metrics as sm\r\n",
    "import matplotlib.pyplot as plt\r\n",
    "from sklearn.cluster import KMeans\r\n",
    "import plotly.express as px\r\n",
    "from sklearn.preprocessing import StandardScaler, MinMaxScaler\r\n",
    "from sklearn.metrics import silhouette_score\r\n",
    "#from tqdm import tqdm\r\n",
    "from sklearn.decomposition import PCA\r\n",
    "import joblib\r\n",
    "from sklearn.neighbors import KNeighborsClassifier\r\n",
    "import plotly.io as pio\r\n",
    "pio.renderers.default = \"vscode\"\r\n",
    "from pandas import read_csv"
   ],
   "outputs": [],
   "metadata": {}
  },
  {
   "cell_type": "code",
   "execution_count": 11,
   "source": [
    "#Resgata o modelo para fazer a indicao do novo cluster\r\n",
    "modelo = joblib.load(\"./modelo/classificador_cliente.pkl\")"
   ],
   "outputs": [],
   "metadata": {}
  },
  {
   "cell_type": "code",
   "execution_count": null,
   "source": [
    "#recupera os dados da planilha origem apenas para coletar o nome dos campos\r\n",
    "filename= \"./data/datasetclusterizado.csv\"\r\n",
    "file= pd.read_csv(filename,sep=\"\\t\",decimal='.', engine='python')\r\n",
    "file = file.reindex(sorted(file.columns), axis=1)\r\n",
    "file.drop(file.columns[0],inplace=True,axis=1)\r\n",
    "file.drop([\"cluster\"],inplace=True,axis=1)\r\n",
    "file.head()"
   ],
   "outputs": [],
   "metadata": {}
  },
  {
   "cell_type": "code",
   "execution_count": 27,
   "source": [
    "file.info()"
   ],
   "outputs": [
    {
     "output_type": "stream",
     "name": "stdout",
     "text": [
      "<class 'pandas.core.frame.DataFrame'>\n",
      "RangeIndex: 8507 entries, 0 to 8506\n",
      "Data columns (total 22 columns):\n",
      " #   Column                       Non-Null Count  Dtype  \n",
      "---  ------                       --------------  -----  \n",
      " 0   ativoCirculante              8507 non-null   float64\n",
      " 1   capitalSocial                8507 non-null   float64\n",
      " 2   custos                       8507 non-null   float64\n",
      " 3   dashboardCorrelacao          8507 non-null   float64\n",
      " 4   definicaoRisco               8507 non-null   int64  \n",
      " 5   empresa_MeEppMei             8507 non-null   bool   \n",
      " 6   endividamento                8507 non-null   float64\n",
      " 7   estoque                      8507 non-null   float64\n",
      " 8   faturamentoBruto             8507 non-null   float64\n",
      " 9   limiteEmpresaAnaliseCredito  8507 non-null   float64\n",
      " 10  maiorAtraso                  8507 non-null   int64  \n",
      " 11  margemBruta                  8507 non-null   float64\n",
      " 12  margemBrutaAcumulada         8507 non-null   float64\n",
      " 13  passivoCirculante            8507 non-null   float64\n",
      " 14  percentualProtestos          8507 non-null   float64\n",
      " 15  prazoMedioRecebimentoVendas  8507 non-null   int64  \n",
      " 16  restricoes                   8507 non-null   bool   \n",
      " 17  scorePontualidade            8507 non-null   float64\n",
      " 18  titulosEmAberto              8507 non-null   float64\n",
      " 19  totalPatrimonioLiquido       8507 non-null   float64\n",
      " 20  valorAprovado                8507 non-null   float64\n",
      " 21  valorSolicitado              8507 non-null   float64\n",
      "dtypes: bool(2), float64(17), int64(3)\n",
      "memory usage: 1.3 MB\n"
     ]
    }
   ],
   "metadata": {}
  },
  {
   "cell_type": "markdown",
   "source": [
    "* Adicionando um cliente manualement *"
   ],
   "metadata": {}
  },
  {
   "cell_type": "code",
   "execution_count": 72,
   "source": [
    "#simulando um novo dado\r\n",
    "dd = [[14758917.0,\r\n",
    "15000.0,\r\n",
    "0.0,\r\n",
    "0.0,\r\n",
    "3,\r\n",
    "True,\r\n",
    "3039112.0,\r\n",
    "3047791.0,\r\n",
    "918476.0,\r\n",
    "38400.0,\r\n",
    "0,\r\n",
    "0.0,\r\n",
    "0.0,\r\n",
    "12149031.0,\r\n",
    "0.0,\r\n",
    "0,\r\n",
    "False,\r\n",
    "0.0,\r\n",
    "0.0,\r\n",
    "14544378.0,\r\n",
    "20000.0,\r\n",
    "25000.0\r\n",
    "]]\r\n",
    "\r\n",
    "df_new=pd.DataFrame(dd)\r\n",
    "df_new.columns = file.columns\r\n",
    "#sugestao do cluster\r\n",
    "modelo.predict(df_new)\r\n"
   ],
   "outputs": [
    {
     "output_type": "execute_result",
     "data": {
      "text/plain": [
       "array([2])"
      ]
     },
     "metadata": {},
     "execution_count": 72
    }
   ],
   "metadata": {}
  },
  {
   "cell_type": "code",
   "execution_count": 54,
   "source": [
    "df_new"
   ],
   "outputs": [
    {
     "output_type": "execute_result",
     "data": {
      "text/html": [
       "<div>\n",
       "<style scoped>\n",
       "    .dataframe tbody tr th:only-of-type {\n",
       "        vertical-align: middle;\n",
       "    }\n",
       "\n",
       "    .dataframe tbody tr th {\n",
       "        vertical-align: top;\n",
       "    }\n",
       "\n",
       "    .dataframe thead th {\n",
       "        text-align: right;\n",
       "    }\n",
       "</style>\n",
       "<table border=\"1\" class=\"dataframe\">\n",
       "  <thead>\n",
       "    <tr style=\"text-align: right;\">\n",
       "      <th></th>\n",
       "      <th>ativoCirculante</th>\n",
       "      <th>capitalSocial</th>\n",
       "      <th>custos</th>\n",
       "      <th>dashboardCorrelacao</th>\n",
       "      <th>definicaoRisco</th>\n",
       "      <th>empresa_MeEppMei</th>\n",
       "      <th>endividamento</th>\n",
       "      <th>estoque</th>\n",
       "      <th>faturamentoBruto</th>\n",
       "      <th>limiteEmpresaAnaliseCredito</th>\n",
       "      <th>...</th>\n",
       "      <th>margemBrutaAcumulada</th>\n",
       "      <th>passivoCirculante</th>\n",
       "      <th>percentualProtestos</th>\n",
       "      <th>prazoMedioRecebimentoVendas</th>\n",
       "      <th>restricoes</th>\n",
       "      <th>scorePontualidade</th>\n",
       "      <th>titulosEmAberto</th>\n",
       "      <th>totalPatrimonioLiquido</th>\n",
       "      <th>valorAprovado</th>\n",
       "      <th>valorSolicitado</th>\n",
       "    </tr>\n",
       "  </thead>\n",
       "  <tbody>\n",
       "    <tr>\n",
       "      <th>0</th>\n",
       "      <td>14758917.0</td>\n",
       "      <td>75000.0</td>\n",
       "      <td>40680051.0</td>\n",
       "      <td>0.0</td>\n",
       "      <td>2</td>\n",
       "      <td>False</td>\n",
       "      <td>3039112.0</td>\n",
       "      <td>3047791.0</td>\n",
       "      <td>40779757.0</td>\n",
       "      <td>89000.0</td>\n",
       "      <td>...</td>\n",
       "      <td>0.454088</td>\n",
       "      <td>12149031.0</td>\n",
       "      <td>0.0</td>\n",
       "      <td>20</td>\n",
       "      <td>False</td>\n",
       "      <td>1.0</td>\n",
       "      <td>1486.95</td>\n",
       "      <td>14544378.0</td>\n",
       "      <td>50000.0</td>\n",
       "      <td>50000.0</td>\n",
       "    </tr>\n",
       "  </tbody>\n",
       "</table>\n",
       "<p>1 rows × 22 columns</p>\n",
       "</div>"
      ],
      "text/plain": [
       "   ativoCirculante  capitalSocial      custos  dashboardCorrelacao  \\\n",
       "0       14758917.0        75000.0  40680051.0                  0.0   \n",
       "\n",
       "   definicaoRisco  empresa_MeEppMei  endividamento    estoque  \\\n",
       "0               2             False      3039112.0  3047791.0   \n",
       "\n",
       "   faturamentoBruto  limiteEmpresaAnaliseCredito  ...  margemBrutaAcumulada  \\\n",
       "0        40779757.0                      89000.0  ...              0.454088   \n",
       "\n",
       "   passivoCirculante  percentualProtestos  prazoMedioRecebimentoVendas  \\\n",
       "0         12149031.0                  0.0                           20   \n",
       "\n",
       "   restricoes  scorePontualidade  titulosEmAberto  totalPatrimonioLiquido  \\\n",
       "0       False                1.0          1486.95              14544378.0   \n",
       "\n",
       "   valorAprovado  valorSolicitado  \n",
       "0        50000.0          50000.0  \n",
       "\n",
       "[1 rows x 22 columns]"
      ]
     },
     "metadata": {},
     "execution_count": 54
    }
   ],
   "metadata": {}
  }
 ],
 "metadata": {
  "orig_nbformat": 4,
  "language_info": {
   "name": "python",
   "version": "3.9.6",
   "mimetype": "text/x-python",
   "codemirror_mode": {
    "name": "ipython",
    "version": 3
   },
   "pygments_lexer": "ipython3",
   "nbconvert_exporter": "python",
   "file_extension": ".py"
  },
  "kernelspec": {
   "name": "python3",
   "display_name": "Python 3.9.6 64-bit ('bootcamp': conda)"
  },
  "interpreter": {
   "hash": "4ca7a686c1986d2f001f62bcf8ea3a3e95e421c5419784c6d36a6b094213d693"
  }
 },
 "nbformat": 4,
 "nbformat_minor": 2
}